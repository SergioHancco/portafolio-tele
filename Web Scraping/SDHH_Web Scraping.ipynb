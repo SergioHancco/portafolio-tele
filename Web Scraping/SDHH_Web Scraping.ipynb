{
 "cells": [
  {
   "cell_type": "markdown",
   "metadata": {},
   "source": [
    "<center> <h1>Universidad Nacional de San Agustín de Arequipa</h1> </center> \n",
    "<center> <h1>Escuela Profesional de Ingeniería de Telecomunicaciones</h1> </center> \n",
    "\n",
    "<center> <h1> </h1> </center> \n",
    "\n",
    "<center><img src=\"https://user-images.githubusercontent.com/19308295/115939517-f1c6fe80-a463-11eb-989c-812ab4942586.png\" width=\"380\" height=\"4200\"></center>"
   ]
  },
  {
   "cell_type": "markdown",
   "metadata": {},
   "source": [
    "<center> <h1>Curso : Computación 2</h1> </center> "
   ]
  },
  {
   "cell_type": "markdown",
   "metadata": {},
   "source": [
    "<center> <h2>Docentes: Ingeniero Renzo Bolivar</h2> </center> "
   ]
  },
  {
   "cell_type": "markdown",
   "metadata": {},
   "source": [
    "<center> <h2>Autor: Sergio Hancco Huillca</h2> </center> "
   ]
  },
  {
   "cell_type": "markdown",
   "metadata": {},
   "source": [
    "![linea 1](https://user-images.githubusercontent.com/19308295/115926252-2b8a0c00-a448-11eb-9d9c-b43beaf0ff68.png)"
   ]
  },
  {
   "cell_type": "markdown",
   "metadata": {},
   "source": [
    "<center> <h1>TEMA :Web scraping y migración de Excel a Python</h1> </center> "
   ]
  },
  {
   "cell_type": "markdown",
   "metadata": {},
   "source": [
    "![linea 1](https://user-images.githubusercontent.com/19308295/115926252-2b8a0c00-a448-11eb-9d9c-b43beaf0ff68.png)"
   ]
  },
  {
   "cell_type": "markdown",
   "metadata": {},
   "source": [
    "# Descripción:"
   ]
  },
  {
   "cell_type": "markdown",
   "metadata": {},
   "source": [
    "En este informe exponemos lo que hemos averiguado sobre el web scraping. Lo aplicamos al extraer los titulares de una pagina web referente a noticias de la Copa América de la página \"copaamerica.com\". \n",
    "Además, se muestra la experiencia compartida acerca del manejo de data de Excel en Python. Dividiendola en dos secciones, cada uno con su propio dataset y sus propios objetivos de análisis.\n",
    "Debemos menionar que nosotros trabajamos con archivos csv, que es uno de los formatos que admite el programa Excel. Se hará su exploración, su limpieza de datos y si gráfica respectiva."
   ]
  },
  {
   "cell_type": "markdown",
   "metadata": {},
   "source": [
    "# Objetivos:\n",
    "\n",
    "1. Entender el funcionamiento de web scraping y aplicarlo en la extracción de noticias de la pagina web de la copa américa (copaamerica.com).\n",
    "2. Cargar archivos CVS's y usarlos como base para la exploracion, limpieza (de ser necesario), análisis y gráfica de datos."
   ]
  },
  {
   "cell_type": "markdown",
   "metadata": {},
   "source": [
    "# Contenido:"
   ]
  },
  {
   "cell_type": "markdown",
   "metadata": {},
   "source": [
    "[1. Sobre web scraping](#1.-Sobre-web-scraping)<br>\n",
    "[2. Aplicación de Web Scraping con BeautifulSoap](#2.-Aplicación-de-Web-Scraping-con-BeautifulSoap)<br>\n",
    "[3. Experiencia de Excel en Python](#3.-Experiencia-de-Excel-en-Python)<br>\n",
    "\n",
    "[BIBLIOGRAFÍA](#BIBLIOGRAFÍA)<br>"
   ]
  },
  {
   "cell_type": "markdown",
   "metadata": {},
   "source": [
    "![linea 1](https://user-images.githubusercontent.com/19308295/115926252-2b8a0c00-a448-11eb-9d9c-b43beaf0ff68.png)"
   ]
  },
  {
   "cell_type": "markdown",
   "metadata": {},
   "source": [
    "## <font color=#33A5FF>****1. Sobre web scraping****<tfont>\n",
    "    \n",
    "\n",
    "### Definición\n",
    "Durante el web scraping (del inglés scraping = arañar/raspar) se extraen y almacenan datos de páginas web para analizarlos o utilizarlos en otra parte. Por medio de este raspado web se almacenan diversos tipos de información: por ejemplo, datos de contacto, tales como direcciones de correo electrónico o números de teléfono, o también términos de búsqueda o URL. Estos se almacenan en bases de datos locales o tablas.\n",
    "Con el web scraping se leen textos de páginas web para obtener información y almacenarla, de forma comparable al proceso automático de copiado y pegado. \n",
    "    \n",
    "### Funcionamiento\n",
    "Existen dos tipos de scraping:\n",
    "- El scraping manual, el copiado y pegado manual de información y datos, es un proceso muy laborioso que raras veces se aplica a grandes cantidades de datos.\n",
    "- El scraping automático, se recurre a un software o un algoritmo que analiza diferentes páginas web para extraer información. Se utiliza software especializado según el tipo de página web y el contenido. Se clasifican a su vez en: Analizador sintáctico o parsers que se utilizan para convertir un texto en una nueva estructura; bots, un software dedicado a realizar determinadas tareas y automatizarlas; y texto: ideal para programadores avanzados que usan determinados términos en Python o Perl. Este es un método muy sencillo para extraer datos, aunque requiere más trabajo que la utilización de un software.\n",
    "- El scraping no siempre es legal. En primer lugar, los scrapers deben tener en cuenta los derechos de propiedad intelectual de los sitios web. "
   ]
  },
  {
   "cell_type": "markdown",
   "metadata": {},
   "source": [
    "<center><img src=\"https://www.antevenio.com/wp-content/uploads/2019/03/web-scraping-service.png\" ></center>"
   ]
  },
  {
   "cell_type": "markdown",
   "metadata": {},
   "source": [
    "![linea 2](https://user-images.githubusercontent.com/19308295/115926262-2fb62980-a448-11eb-8189-c2f10e499944.png)"
   ]
  },
  {
   "cell_type": "markdown",
   "metadata": {},
   "source": [
    "## <font color=#33A5FF>****2. Aplicación de Web Scraping con BeautifulSoap****<tfont>"
   ]
  },
  {
   "cell_type": "markdown",
   "metadata": {},
   "source": [
    "Se deberá instalar la librería BeautifulSoap, una herramienta que nos permitirá hacer el scrapeo. Para ello, en el terminal de nuestro S.O. ejecutaremos el comando \"pip install beautifulsoap4\"."
   ]
  },
  {
   "cell_type": "code",
   "execution_count": 1,
   "metadata": {},
   "outputs": [],
   "source": [
    "# importamos la libreria BeautifulSoap y librería \"requests\"\n",
    "import pandas as pd\n",
    "from bs4 import BeautifulSoup\n",
    "import requests"
   ]
  },
  {
   "cell_type": "code",
   "execution_count": 2,
   "metadata": {},
   "outputs": [],
   "source": [
    "url = 'https://peru.as.com/resultados/futbol/copa_libertadores/clasificacion/'\n",
    "page = requests.get(url)"
   ]
  },
  {
   "cell_type": "code",
   "execution_count": 3,
   "metadata": {},
   "outputs": [],
   "source": [
    "soup = BeautifulSoup(page.text, 'html.parser')"
   ]
  },
  {
   "cell_type": "code",
   "execution_count": 4,
   "metadata": {},
   "outputs": [
    {
     "name": "stdout",
     "output_type": "stream",
     "text": [
      "[<span class=\"nombre-equipo\" itemprop=\"name\">Racing Club</span>, <span class=\"nombre-equipo\" itemprop=\"name\">Flamengo</span>, <span class=\"nombre-equipo\" itemprop=\"name\">Ñublense</span>, <span class=\"nombre-equipo\" itemprop=\"name\">Aucas</span>, <span class=\"nombre-equipo\" itemprop=\"name\">Medellín</span>, <span class=\"nombre-equipo\" itemprop=\"name\">Internacional</span>, <span class=\"nombre-equipo\" itemprop=\"name\">Nacional de Montevideo</span>, <span class=\"nombre-equipo\" itemprop=\"name\">Metropolitanos</span>, <span class=\"nombre-equipo\" itemprop=\"name\">Bolívar</span>, <span class=\"nombre-equipo\" itemprop=\"name\">Palmeiras</span>, <span class=\"nombre-equipo\" itemprop=\"name\">Barcelona S.C</span>, <span class=\"nombre-equipo\" itemprop=\"name\">Cerro Porteño</span>, <span class=\"nombre-equipo\" itemprop=\"name\">Fluminense</span>, <span class=\"nombre-equipo\" itemprop=\"name\">River Plate</span>, <span class=\"nombre-equipo\" itemprop=\"name\">Sporting Cristal</span>, <span class=\"nombre-equipo\" itemprop=\"name\">The Strongest</span>, <span class=\"nombre-equipo\" itemprop=\"name\">Argentinos Juniors</span>, <span class=\"nombre-equipo\" itemprop=\"name\">Independiente del Valle</span>, <span class=\"nombre-equipo\" itemprop=\"name\">Corinthians</span>, <span class=\"nombre-equipo\" itemprop=\"name\">Liverpool F.C</span>, <span class=\"nombre-equipo\" itemprop=\"name\">Boca Juniors</span>, <span class=\"nombre-equipo\" itemprop=\"name\">Deportivo Pereira</span>, <span class=\"nombre-equipo\" itemprop=\"name\">Monagas</span>, <span class=\"nombre-equipo\" itemprop=\"name\">Colo Colo</span>, <span class=\"nombre-equipo\" itemprop=\"name\">At. Paranaense</span>, <span class=\"nombre-equipo\" itemprop=\"name\">Atlético Mineiro</span>, <span class=\"nombre-equipo\" itemprop=\"name\">Libertad</span>, <span class=\"nombre-equipo\" itemprop=\"name\">Alianza Lima</span>, <span class=\"nombre-equipo\" itemprop=\"name\">Olimpia</span>, <span class=\"nombre-equipo\" itemprop=\"name\">Nacional</span>, <span class=\"nombre-equipo\" itemprop=\"name\">FBC Melgar</span>, <span class=\"nombre-equipo\" itemprop=\"name\">Patronato</span>]\n"
     ]
    }
   ],
   "source": [
    "eq=soup.find_all('span', class_='nombre-equipo')\n",
    "print(eq)"
   ]
  },
  {
   "cell_type": "code",
   "execution_count": 5,
   "metadata": {},
   "outputs": [
    {
     "name": "stdout",
     "output_type": "stream",
     "text": [
      "['Racing Club', 'Flamengo', 'Ñublense', 'Aucas', 'Medellín', 'Internacional', 'Nacional de Montevideo', 'Metropolitanos', 'Bolívar', 'Palmeiras', 'Barcelona S.C', 'Cerro Porteño', 'Fluminense', 'River Plate', 'Sporting Cristal', 'The Strongest', 'Argentinos Juniors', 'Independiente del Valle', 'Corinthians', 'Liverpool F.C', 'Boca Juniors', 'Deportivo Pereira', 'Monagas', 'Colo Colo', 'At. Paranaense', 'Atlético Mineiro', 'Libertad', 'Alianza Lima', 'Olimpia', 'Nacional', 'FBC Melgar', 'Patronato']\n"
     ]
    }
   ],
   "source": [
    "equipos=list()\n",
    "for i in eq:\n",
    "    equipos.append(i.text)\n",
    "print(equipos)"
   ]
  },
  {
   "cell_type": "code",
   "execution_count": 6,
   "metadata": {},
   "outputs": [
    {
     "name": "stdout",
     "output_type": "stream",
     "text": [
      "['10', '8', '5', '4', '10', '9', '8', '0', '12', '12', '3', '3', '9', '7', '7', '6', '11', '9', '4', '4', '10', '7', '5', '5', '10', '9', '6', '4', '11', '10', '4', '3']\n"
     ]
    }
   ],
   "source": [
    "pt=soup.find_all('td', class_='destacado')\n",
    "puntos=list()\n",
    "for i in pt:\n",
    "    puntos.append(i.text)\n",
    "print(puntos)"
   ]
  },
  {
   "cell_type": "code",
   "execution_count": 7,
   "metadata": {},
   "outputs": [],
   "source": [
    "df=pd.DataFrame({'Nombre':equipos, 'Puntos':puntos})"
   ]
  },
  {
   "cell_type": "code",
   "execution_count": 8,
   "metadata": {},
   "outputs": [
    {
     "data": {
      "text/plain": [
       "32"
      ]
     },
     "execution_count": 8,
     "metadata": {},
     "output_type": "execute_result"
    }
   ],
   "source": [
    "len(df)"
   ]
  },
  {
   "cell_type": "code",
   "execution_count": 9,
   "metadata": {},
   "outputs": [
    {
     "data": {
      "text/html": [
       "<div>\n",
       "<style scoped>\n",
       "    .dataframe tbody tr th:only-of-type {\n",
       "        vertical-align: middle;\n",
       "    }\n",
       "\n",
       "    .dataframe tbody tr th {\n",
       "        vertical-align: top;\n",
       "    }\n",
       "\n",
       "    .dataframe thead th {\n",
       "        text-align: right;\n",
       "    }\n",
       "</style>\n",
       "<table border=\"1\" class=\"dataframe\">\n",
       "  <thead>\n",
       "    <tr style=\"text-align: right;\">\n",
       "      <th></th>\n",
       "      <th>Nombre</th>\n",
       "      <th>Puntos</th>\n",
       "    </tr>\n",
       "  </thead>\n",
       "  <tbody>\n",
       "    <tr>\n",
       "      <th>0</th>\n",
       "      <td>Racing Club</td>\n",
       "      <td>10</td>\n",
       "    </tr>\n",
       "    <tr>\n",
       "      <th>1</th>\n",
       "      <td>Flamengo</td>\n",
       "      <td>8</td>\n",
       "    </tr>\n",
       "    <tr>\n",
       "      <th>2</th>\n",
       "      <td>Ñublense</td>\n",
       "      <td>5</td>\n",
       "    </tr>\n",
       "    <tr>\n",
       "      <th>3</th>\n",
       "      <td>Aucas</td>\n",
       "      <td>4</td>\n",
       "    </tr>\n",
       "    <tr>\n",
       "      <th>4</th>\n",
       "      <td>Medellín</td>\n",
       "      <td>10</td>\n",
       "    </tr>\n",
       "    <tr>\n",
       "      <th>5</th>\n",
       "      <td>Internacional</td>\n",
       "      <td>9</td>\n",
       "    </tr>\n",
       "    <tr>\n",
       "      <th>6</th>\n",
       "      <td>Nacional de Montevideo</td>\n",
       "      <td>8</td>\n",
       "    </tr>\n",
       "    <tr>\n",
       "      <th>7</th>\n",
       "      <td>Metropolitanos</td>\n",
       "      <td>0</td>\n",
       "    </tr>\n",
       "    <tr>\n",
       "      <th>8</th>\n",
       "      <td>Bolívar</td>\n",
       "      <td>12</td>\n",
       "    </tr>\n",
       "    <tr>\n",
       "      <th>9</th>\n",
       "      <td>Palmeiras</td>\n",
       "      <td>12</td>\n",
       "    </tr>\n",
       "    <tr>\n",
       "      <th>10</th>\n",
       "      <td>Barcelona S.C</td>\n",
       "      <td>3</td>\n",
       "    </tr>\n",
       "    <tr>\n",
       "      <th>11</th>\n",
       "      <td>Cerro Porteño</td>\n",
       "      <td>3</td>\n",
       "    </tr>\n",
       "    <tr>\n",
       "      <th>12</th>\n",
       "      <td>Fluminense</td>\n",
       "      <td>9</td>\n",
       "    </tr>\n",
       "    <tr>\n",
       "      <th>13</th>\n",
       "      <td>River Plate</td>\n",
       "      <td>7</td>\n",
       "    </tr>\n",
       "    <tr>\n",
       "      <th>14</th>\n",
       "      <td>Sporting Cristal</td>\n",
       "      <td>7</td>\n",
       "    </tr>\n",
       "    <tr>\n",
       "      <th>15</th>\n",
       "      <td>The Strongest</td>\n",
       "      <td>6</td>\n",
       "    </tr>\n",
       "    <tr>\n",
       "      <th>16</th>\n",
       "      <td>Argentinos Juniors</td>\n",
       "      <td>11</td>\n",
       "    </tr>\n",
       "    <tr>\n",
       "      <th>17</th>\n",
       "      <td>Independiente del Valle</td>\n",
       "      <td>9</td>\n",
       "    </tr>\n",
       "    <tr>\n",
       "      <th>18</th>\n",
       "      <td>Corinthians</td>\n",
       "      <td>4</td>\n",
       "    </tr>\n",
       "    <tr>\n",
       "      <th>19</th>\n",
       "      <td>Liverpool F.C</td>\n",
       "      <td>4</td>\n",
       "    </tr>\n",
       "    <tr>\n",
       "      <th>20</th>\n",
       "      <td>Boca Juniors</td>\n",
       "      <td>10</td>\n",
       "    </tr>\n",
       "    <tr>\n",
       "      <th>21</th>\n",
       "      <td>Deportivo Pereira</td>\n",
       "      <td>7</td>\n",
       "    </tr>\n",
       "    <tr>\n",
       "      <th>22</th>\n",
       "      <td>Monagas</td>\n",
       "      <td>5</td>\n",
       "    </tr>\n",
       "    <tr>\n",
       "      <th>23</th>\n",
       "      <td>Colo Colo</td>\n",
       "      <td>5</td>\n",
       "    </tr>\n",
       "    <tr>\n",
       "      <th>24</th>\n",
       "      <td>At. Paranaense</td>\n",
       "      <td>10</td>\n",
       "    </tr>\n",
       "    <tr>\n",
       "      <th>25</th>\n",
       "      <td>Atlético Mineiro</td>\n",
       "      <td>9</td>\n",
       "    </tr>\n",
       "    <tr>\n",
       "      <th>26</th>\n",
       "      <td>Libertad</td>\n",
       "      <td>6</td>\n",
       "    </tr>\n",
       "    <tr>\n",
       "      <th>27</th>\n",
       "      <td>Alianza Lima</td>\n",
       "      <td>4</td>\n",
       "    </tr>\n",
       "    <tr>\n",
       "      <th>28</th>\n",
       "      <td>Olimpia</td>\n",
       "      <td>11</td>\n",
       "    </tr>\n",
       "    <tr>\n",
       "      <th>29</th>\n",
       "      <td>Nacional</td>\n",
       "      <td>10</td>\n",
       "    </tr>\n",
       "    <tr>\n",
       "      <th>30</th>\n",
       "      <td>FBC Melgar</td>\n",
       "      <td>4</td>\n",
       "    </tr>\n",
       "    <tr>\n",
       "      <th>31</th>\n",
       "      <td>Patronato</td>\n",
       "      <td>3</td>\n",
       "    </tr>\n",
       "  </tbody>\n",
       "</table>\n",
       "</div>"
      ],
      "text/plain": [
       "                     Nombre Puntos\n",
       "0               Racing Club     10\n",
       "1                  Flamengo      8\n",
       "2                  Ñublense      5\n",
       "3                     Aucas      4\n",
       "4                  Medellín     10\n",
       "5             Internacional      9\n",
       "6    Nacional de Montevideo      8\n",
       "7            Metropolitanos      0\n",
       "8                   Bolívar     12\n",
       "9                 Palmeiras     12\n",
       "10            Barcelona S.C      3\n",
       "11            Cerro Porteño      3\n",
       "12               Fluminense      9\n",
       "13              River Plate      7\n",
       "14         Sporting Cristal      7\n",
       "15            The Strongest      6\n",
       "16       Argentinos Juniors     11\n",
       "17  Independiente del Valle      9\n",
       "18              Corinthians      4\n",
       "19            Liverpool F.C      4\n",
       "20             Boca Juniors     10\n",
       "21        Deportivo Pereira      7\n",
       "22                  Monagas      5\n",
       "23                Colo Colo      5\n",
       "24           At. Paranaense     10\n",
       "25         Atlético Mineiro      9\n",
       "26                 Libertad      6\n",
       "27             Alianza Lima      4\n",
       "28                  Olimpia     11\n",
       "29                 Nacional     10\n",
       "30               FBC Melgar      4\n",
       "31                Patronato      3"
      ]
     },
     "execution_count": 9,
     "metadata": {},
     "output_type": "execute_result"
    }
   ],
   "source": [
    "df.head(32)"
   ]
  },
  {
   "cell_type": "code",
   "execution_count": 10,
   "metadata": {},
   "outputs": [],
   "source": [
    "df.to_csv('Resultados_4.csv')"
   ]
  },
  {
   "cell_type": "markdown",
   "metadata": {},
   "source": [
    "## <font color=#33A5FF>****BIBLIOGRAFÍA****<tfont>"
   ]
  },
  {
   "cell_type": "markdown",
   "metadata": {},
   "source": [
    "[1] Web Scraping https://www.ionos.es/digitalguide/paginas-web/desarrollo-web/que-es-el-web-scraping/\n",
    "\n",
    "[2] Página de Deportes AS https://as.com/es/\n",
    "\n",
    "[3] Página en donde se hallaron los datasets https://www.kaggle.com/datasets"
   ]
  },
  {
   "cell_type": "markdown",
   "metadata": {},
   "source": [
    "![linea 1](https://user-images.githubusercontent.com/19308295/115926252-2b8a0c00-a448-11eb-9d9c-b43beaf0ff68.png)"
   ]
  }
 ],
 "metadata": {
  "kernelspec": {
   "display_name": "Python 3 (ipykernel)",
   "language": "python",
   "name": "python3"
  },
  "language_info": {
   "codemirror_mode": {
    "name": "ipython",
    "version": 3
   },
   "file_extension": ".py",
   "mimetype": "text/x-python",
   "name": "python",
   "nbconvert_exporter": "python",
   "pygments_lexer": "ipython3",
   "version": "3.10.11"
  }
 },
 "nbformat": 4,
 "nbformat_minor": 4
}
